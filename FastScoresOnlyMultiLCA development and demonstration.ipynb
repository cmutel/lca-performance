{
 "cells": [
  {
   "cell_type": "code",
   "execution_count": 1,
   "id": "a6a31c9a-50ba-4eaf-8654-662b3d690951",
   "metadata": {},
   "outputs": [
    {
     "name": "stdout",
     "output_type": "stream",
     "text": [
      "\u001b[2m09:28:01+0200\u001b[0m [\u001b[33m\u001b[1mwarning  \u001b[0m] \u001b[1mCan't import `SimaProBlockCSVImporter` - please install `bw2io` with `pip install bw2io[multifunctional]` or install `multifunctional` and `bw_simapro_csv` manually.\u001b[0m\n"
     ]
    }
   ],
   "source": [
    "import bw2data as bd\n",
    "import bw2calc as bc\n",
    "from time import time\n",
    "from scipy import sparse\n",
    "import numpy as np"
   ]
  },
  {
   "cell_type": "code",
   "execution_count": 2,
   "id": "0301a242-ce54-4cd7-bcc5-08172bb9c3a5",
   "metadata": {},
   "outputs": [],
   "source": [
    "bd.projects.set_current(\"Speed racer 🏎️\")"
   ]
  },
  {
   "cell_type": "markdown",
   "id": "90e5c0a3-8d97-4811-a228-0721484260f2",
   "metadata": {},
   "source": [
    "# 1. Basic approach re-using the factorization"
   ]
  },
  {
   "cell_type": "code",
   "execution_count": 3,
   "id": "fc3f3c15-0994-4bd4-bd0c-3515b694dc26",
   "metadata": {},
   "outputs": [
    {
     "name": "stdout",
     "output_type": "stream",
     "text": [
      "250 nodes and 1 impact category took 0.006463779449462891 seconds per calculation\n"
     ]
    }
   ],
   "source": [
    "db = bd.Database(\"ecoinvent-3.11-cutoff\")\n",
    "\n",
    "nodes = [node for node in db]\n",
    "nodes.sort(key=lambda x:x.id)\n",
    "fus = nodes[:250]\n",
    "\n",
    "m = (\n",
    "    'ecoinvent-3.11',\n",
    "    'ReCiPe 2016 v1.03, endpoint (H) no LT',\n",
    "    'ecosystem quality no LT',\n",
    "    'photochemical oxidant formation: terrestrial ecosystems no LT'\n",
    ")\n",
    "\n",
    "demand, data_objs, _ = bd.prepare_lca_inputs(demand={fus[0]: 1}, method=m, remapping=False)\n",
    "\n",
    "lca = bc.LCA(demand, data_objs=data_objs)\n",
    "lca.lci()\n",
    "lca.lcia()\n",
    "\n",
    "start = time()\n",
    "\n",
    "for node in fus:\n",
    "    lca.lci(demand={node.id: 1})\n",
    "    lca.lcia_calculation()\n",
    "\n",
    "print(f\"{len(fus)} nodes and 1 impact category took {(time() - start) / len(fus)} seconds per calculation\")"
   ]
  },
  {
   "cell_type": "markdown",
   "id": "9e308196-671c-4c18-9963-f38bbb9218a7",
   "metadata": {},
   "source": [
    "Profiling results: `multiple-full-calcs.html`\n",
    "\n",
    "# 2. We don't need to diagonalize the demand array if we only want scores\n",
    "\n",
    "We can compress the inventory to sum all elementary flows"
   ]
  },
  {
   "cell_type": "code",
   "execution_count": 4,
   "id": "ce17178c-1522-4f60-9914-e606faac0058",
   "metadata": {},
   "outputs": [
    {
     "name": "stdout",
     "output_type": "stream",
     "text": [
      "250 nodes and 1 impact category took 0.003922901153564453 seconds per calculation\n"
     ]
    }
   ],
   "source": [
    "start = time()\n",
    "\n",
    "for node in fus:\n",
    "    lca.build_demand_array({node.id: 1})\n",
    "    supply_array = lca.solve_linear_system()\n",
    "    supply_array_one_column = sparse.coo_matrix(\n",
    "        (supply_array, (np.arange(supply_array.shape[0]), np.zeros(supply_array.shape[0]))),\n",
    "        shape=(len(lca.dicts.activity), 1),\n",
    "    )\n",
    "    inventory_matrix_one_column = lca.biosphere_matrix @ supply_array_one_column\n",
    "    score = (lca.characterization_matrix @ inventory_matrix_one_column).sum()\n",
    "\n",
    "print(f\"{len(fus)} nodes and 1 impact category took {(time() - start) / len(fus)} seconds per calculation\")"
   ]
  },
  {
   "cell_type": "markdown",
   "id": "594fb26d-cc57-4be7-8c63-7bc4e8c3f568",
   "metadata": {},
   "source": [
    "Profiling results: `multiple-calcs-only-score.html`\n",
    "\n",
    "# 3. We can multiply the characterization matrix by the biosphere once, in advance"
   ]
  },
  {
   "cell_type": "code",
   "execution_count": 5,
   "id": "08d5062c-b46c-4dbd-8da0-df59d2231980",
   "metadata": {},
   "outputs": [
    {
     "name": "stdout",
     "output_type": "stream",
     "text": [
      "250 nodes and 1 impact category took 0.0017997913360595704 seconds per calculation\n"
     ]
    }
   ],
   "source": [
    "start = time()\n",
    "\n",
    "characterized_inventory = lca.characterization_matrix @ lca.biosphere_matrix\n",
    "\n",
    "for node in fus:\n",
    "    lca.build_demand_array({node.id: 1})\n",
    "    supply_array = lca.solve_linear_system()\n",
    "    supply_array_one_column = sparse.coo_matrix(\n",
    "        (supply_array, (np.arange(supply_array.shape[0]), np.zeros(supply_array.shape[0]))),\n",
    "        shape=(len(lca.dicts.activity), 1),\n",
    "    )\n",
    "    score = (characterized_inventory @ supply_array_one_column).sum()\n",
    "\n",
    "print(f\"{len(fus)} nodes and 1 impact category took {(time() - start) / len(fus)} seconds per calculation\")"
   ]
  },
  {
   "cell_type": "markdown",
   "id": "a528270b-659e-46ab-9c02-17dba7b9b8db",
   "metadata": {},
   "source": [
    "Profiling results: `pre-characterize.html`\n",
    "\n",
    "# 4. If we know the technosphere hasn't changed, we can skip that check from `pypardiso`"
   ]
  },
  {
   "cell_type": "code",
   "execution_count": 6,
   "id": "14f51ed3-47fb-4b93-8421-1de571334a9b",
   "metadata": {},
   "outputs": [
    {
     "name": "stdout",
     "output_type": "stream",
     "text": [
      "250 nodes and 1 impact category took 0.002495290756225586 seconds per calculation\n"
     ]
    }
   ],
   "source": [
    "from pypardiso.pardiso_wrapper import PyPardisoSolver\n",
    "\n",
    "start = time()\n",
    "\n",
    "solver = PyPardisoSolver()\n",
    "solver.factorize(lca.technosphere_matrix)\n",
    "\n",
    "characterized_inventory = lca.characterization_matrix @ lca.biosphere_matrix\n",
    "\n",
    "for node in fus:\n",
    "    lca.build_demand_array({node.id: 1})\n",
    "\n",
    "    b = solver._check_b(lca.technosphere_matrix, lca.demand_array)\n",
    "    solver.set_phase(33)\n",
    "    supply_array = solver._call_pardiso(lca.technosphere_matrix, b)\n",
    "\n",
    "    supply_array_one_column = sparse.coo_matrix(\n",
    "        (supply_array, (np.arange(supply_array.shape[0]), np.zeros(supply_array.shape[0]))),\n",
    "        shape=(len(lca.dicts.activity), 1),\n",
    "    )\n",
    "    score = (characterized_inventory @ supply_array_one_column).sum()\n",
    "\n",
    "print(f\"{len(fus)} nodes and 1 impact category took {(time() - start) / len(fus)} seconds per calculation\")"
   ]
  },
  {
   "cell_type": "markdown",
   "id": "b93a7057-96b6-4bcd-93e0-792bcb97ebd6",
   "metadata": {},
   "source": [
    "Profiling results: `skip-matrix-checks.html`\n",
    "\n",
    "# 5. We can push more than one functional unit at a time to the sparse solver"
   ]
  },
  {
   "cell_type": "code",
   "execution_count": 7,
   "id": "dcaa1ff4-1d6b-4478-9f64-592f48d85fcf",
   "metadata": {},
   "outputs": [
    {
     "name": "stdout",
     "output_type": "stream",
     "text": [
      "2000 nodes and 1 impact category took 0.0008670732975006103 seconds per calculation\n"
     ]
    }
   ],
   "source": [
    "fus = nodes[:2000]\n",
    "\n",
    "start = time()\n",
    "\n",
    "solver = PyPardisoSolver()\n",
    "solver.factorize(lca.technosphere_matrix)\n",
    "\n",
    "characterized_inventory = lca.characterization_matrix @ lca.biosphere_matrix\n",
    "\n",
    "for i in range(0, len(fus), 100):\n",
    "    i = 0\n",
    "    chunk = fus[i:i + 100]\n",
    "\n",
    "    demand_array = np.zeros((len(lca.dicts.product), len(chunk)))\n",
    "\n",
    "    for i, node in enumerate(chunk):\n",
    "        demand_array[lca.dicts.product[node.id], i] = 1\n",
    "\n",
    "    b = solver._check_b(lca.technosphere_matrix, demand_array)\n",
    "    solver.set_phase(33)\n",
    "    supply_array = solver._call_pardiso(lca.technosphere_matrix, b)\n",
    "    supply_matrix = sparse.csc_matrix(supply_array)\n",
    "    score = (characterized_inventory @ supply_matrix).sum(axis=0)\n",
    "\n",
    "print(f\"{len(fus)} nodes and 1 impact category took {(time() - start) / len(fus)} seconds per calculation\")"
   ]
  },
  {
   "cell_type": "markdown",
   "id": "168b4874-7cb2-432a-8257-f56f251258d6",
   "metadata": {},
   "source": [
    "Profiling results: `chunked.html`\n",
    "\n",
    "# 6. Constructing sparse matrices isn't needed when we have dense vectors. Let's keep things in numpy."
   ]
  },
  {
   "cell_type": "code",
   "execution_count": 9,
   "id": "687db23e-cc7e-43f2-b380-4e7817893d52",
   "metadata": {},
   "outputs": [
    {
     "name": "stdout",
     "output_type": "stream",
     "text": [
      "2000 nodes and 1 impact category took 0.0009325989484786988 seconds per calculation\n"
     ]
    }
   ],
   "source": [
    "start = time()\n",
    "\n",
    "solver = PyPardisoSolver()\n",
    "solver.factorize(lca.technosphere_matrix)\n",
    "\n",
    "characterized_inventory = np.asarray((lca.characterization_matrix @ lca.biosphere_matrix).sum(axis=0))\n",
    "\n",
    "def calculate_score(x, y):\n",
    "    return x @ y\n",
    "\n",
    "for i in range(0, len(fus), 100):\n",
    "    i = 0\n",
    "    chunk = fus[i:i + 100]\n",
    "\n",
    "    demand_array = np.zeros((len(lca.dicts.product), len(chunk)))\n",
    "\n",
    "    for i, node in enumerate(chunk):\n",
    "        demand_array[lca.dicts.product[node.id], i] = 1\n",
    "\n",
    "    b = solver._check_b(lca.technosphere_matrix, demand_array)\n",
    "    solver.set_phase(33)\n",
    "    supply_array = solver._call_pardiso(lca.technosphere_matrix, b)\n",
    "    calculate_score(characterized_inventory, supply_array)\n",
    "\n",
    "print(f\"{len(fus)} nodes and 1 impact category took {(time() - start) / len(fus)} seconds per calculation\")"
   ]
  },
  {
   "cell_type": "markdown",
   "id": "272b2d4d-aff6-4e39-8be9-715d9cd172c3",
   "metadata": {},
   "source": [
    "OK, maybe that was a step too far. We have the best approach implemented in `bw2calc` version 2.2. Let's see how long a full calculation takes:"
   ]
  },
  {
   "cell_type": "code",
   "execution_count": 10,
   "id": "4886f022-a256-436e-a4f8-2a2236c039c7",
   "metadata": {},
   "outputs": [],
   "source": [
    "from bw2calc.fast_scores import FastScoresOnlyMultiLCA"
   ]
  },
  {
   "cell_type": "code",
   "execution_count": 11,
   "id": "1ebff860-df36-4914-802e-d1693380c017",
   "metadata": {},
   "outputs": [
    {
     "data": {
      "text/plain": [
       "25412"
      ]
     },
     "execution_count": 11,
     "metadata": {},
     "output_type": "execute_result"
    }
   ],
   "source": [
    "fus = {str(node.id): {node.id: 1} for node in db}\n",
    "len(fus)"
   ]
  },
  {
   "cell_type": "code",
   "execution_count": 12,
   "id": "316641d6-978f-4cdb-9002-eddcd67f631d",
   "metadata": {},
   "outputs": [
    {
     "data": {
      "text/plain": [
       "592"
      ]
     },
     "execution_count": 12,
     "metadata": {},
     "output_type": "execute_result"
    }
   ],
   "source": [
    "method_config = {\"impact_categories\": [\n",
    "    ic \n",
    "    for ic in bd.methods \n",
    "    if ic[0] == 'ecoinvent-3.11'\n",
    "    and 'EN15804' not in str(ic)\n",
    "]}\n",
    "len(method_config[\"impact_categories\"])"
   ]
  },
  {
   "cell_type": "code",
   "execution_count": 13,
   "id": "9dc1980d-d337-48af-936d-1a7dd2aa1d7a",
   "metadata": {},
   "outputs": [],
   "source": [
    "fsmlca = FastScoresOnlyMultiLCA(\n",
    "    demands=fus,\n",
    "    method_config=method_config,\n",
    "    data_objs=bd.get_multilca_data_objs(fus, method_config)\n",
    ")"
   ]
  },
  {
   "cell_type": "code",
   "execution_count": 14,
   "id": "5a71877a-8711-4b7c-9ade-425c49611714",
   "metadata": {},
   "outputs": [
    {
     "name": "stdout",
     "output_type": "stream",
     "text": [
      "25412 nodes and 592 impact category took 0.000836735942242522 seconds per functional unit.\n",
      "Total time was 21.263133764266968 seconds\n"
     ]
    }
   ],
   "source": [
    "start = time()\n",
    "\n",
    "fsmlca.calculate()\n",
    "\n",
    "end = time()\n",
    "\n",
    "print(f\"{len(fus)} nodes and {len(method_config[\"impact_categories\"])} impact category took {(end - start) / len(fus)} seconds per functional unit.\\nTotal time was {end - start} seconds\")"
   ]
  },
  {
   "cell_type": "code",
   "execution_count": null,
   "id": "096d789e-89d3-4fb4-acb0-9b34b3a5a688",
   "metadata": {},
   "outputs": [],
   "source": []
  }
 ],
 "metadata": {
  "kernelspec": {
   "display_name": "Python [conda env:base] *",
   "language": "python",
   "name": "conda-base-py"
  },
  "language_info": {
   "codemirror_mode": {
    "name": "ipython",
    "version": 3
   },
   "file_extension": ".py",
   "mimetype": "text/x-python",
   "name": "python",
   "nbconvert_exporter": "python",
   "pygments_lexer": "ipython3",
   "version": "3.12.6"
  }
 },
 "nbformat": 4,
 "nbformat_minor": 5
}
